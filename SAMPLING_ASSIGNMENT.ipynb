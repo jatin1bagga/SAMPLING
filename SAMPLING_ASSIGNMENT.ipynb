{
  "nbformat": 4,
  "nbformat_minor": 0,
  "metadata": {
    "colab": {
      "provenance": [],
      "authorship_tag": "ABX9TyOgl4pgHFkVxEytX/58BrBu",
      "include_colab_link": true
    },
    "kernelspec": {
      "name": "python3",
      "display_name": "Python 3"
    },
    "language_info": {
      "name": "python"
    }
  },
  "cells": [
    {
      "cell_type": "markdown",
      "metadata": {
        "id": "view-in-github",
        "colab_type": "text"
      },
      "source": [
        "<a href=\"https://colab.research.google.com/github/jatin1bagga/SAMPLING/blob/main/SAMPLING_ASSIGNMENT.ipynb\" target=\"_parent\"><img src=\"https://colab.research.google.com/assets/colab-badge.svg\" alt=\"Open In Colab\"/></a>"
      ]
    },
    {
      "cell_type": "code",
      "execution_count": 1,
      "metadata": {
        "id": "UwAphCL7AzNl"
      },
      "outputs": [],
      "source": [
        "import pandas as pd\n",
        "from collections import Counter\n",
        "from imblearn.under_sampling import RandomUnderSampler\n",
        "from imblearn.under_sampling import TomekLinks\n",
        "from imblearn.over_sampling import SMOTE\n",
        "from imblearn.under_sampling import NearMiss\n",
        "from imblearn.over_sampling import RandomOverSampler\n",
        "from sklearn.linear_model import LogisticRegression\n",
        "from sklearn.ensemble import RandomForestClassifier\n",
        "from sklearn.svm import SVC\n",
        "from xgboost import XGBClassifier\n",
        "from sklearn.neighbors import KNeighborsClassifier\n",
        "from sklearn.model_selection import train_test_split\n",
        "from sklearn.metrics import accuracy_score"
      ]
    },
    {
      "cell_type": "code",
      "source": [
        "data = pd.read_csv('Creditcard_data.csv')"
      ],
      "metadata": {
        "id": "Ou8W3nWtCRcC"
      },
      "execution_count": 2,
      "outputs": []
    },
    {
      "cell_type": "code",
      "source": [
        "class_counts = data['Class'].value_counts()\n",
        "\n",
        "class_count_0 = class_counts.get(0, 0)  # Default to 0 if class 0 doesn't exist\n",
        "class_count_1 = class_counts.get(1, 0)  # Default to 0 if class 1 doesn't exist\n",
        "\n",
        "print(f\"Class 0 count: {class_count_0}\")\n",
        "print(f\"Class 1 count: {class_count_1}\")\n"
      ],
      "metadata": {
        "colab": {
          "base_uri": "https://localhost:8080/"
        },
        "id": "8zoFba3eEJfa",
        "outputId": "15adf519-d557-40a1-9853-4a5f4c56b65c"
      },
      "execution_count": 4,
      "outputs": [
        {
          "output_type": "stream",
          "name": "stdout",
          "text": [
            "Class 0 count: 763\n",
            "Class 1 count: 9\n"
          ]
        }
      ]
    },
    {
      "cell_type": "code",
      "source": [
        "X=data.drop('Class',axis=1)\n",
        "y=data['Class']"
      ],
      "metadata": {
        "id": "X7DXpiswEgxc"
      },
      "execution_count": 5,
      "outputs": []
    },
    {
      "cell_type": "code",
      "source": [
        "# Random Under-Sampling With Imblearn\n",
        "def random_undersampler(x, y):\n",
        "  rus = RandomUnderSampler(random_state=42, replacement=True)\n",
        "  x_rus, y_rus = rus.fit_resample(x, y)\n",
        "  return x_rus, y_rus"
      ],
      "metadata": {
        "id": "J7xP89W4K3Hb"
      },
      "execution_count": 6,
      "outputs": []
    },
    {
      "cell_type": "code",
      "source": [
        "# Random Over-Sampling With imblearn\n",
        "def random_oversampler(x, y):\n",
        "  ros = RandomOverSampler(random_state=42)\n",
        "  x_ros, y_ros = ros.fit_resample(x, y)\n",
        "  return x_ros, y_ros"
      ],
      "metadata": {
        "id": "ZgRdl_kfLBM2"
      },
      "execution_count": 7,
      "outputs": []
    },
    {
      "cell_type": "code",
      "source": [
        "# Under-Sampling: Tomek Links\n",
        "def tomek_links_sampling(x, y):\n",
        "  tl = TomekLinks()\n",
        "  x_tl, y_tl = tl.fit_resample(x, y)\n",
        "  return x_tl, y_tl"
      ],
      "metadata": {
        "id": "G0um-cULLEmU"
      },
      "execution_count": 8,
      "outputs": []
    },
    {
      "cell_type": "code",
      "source": [
        "# Synthetic Minority Oversampling Technique (SMOTE)\n",
        "def smote_sampling(x, y):\n",
        "  smote = SMOTE()\n",
        "  x_smote, y_smote = smote.fit_resample(x, y)\n",
        "  return x_smote, y_smote"
      ],
      "metadata": {
        "id": "DJanWuP1LH5U"
      },
      "execution_count": 9,
      "outputs": []
    },
    {
      "cell_type": "code",
      "source": [
        "# NearMiss\n",
        "def nearmiss_sampling(x, y):\n",
        "  nm = NearMiss()\n",
        "  x_nm, y_nm = nm.fit_resample(x, y)\n",
        "  return x_nm, y_nm"
      ],
      "metadata": {
        "id": "xt-e9f7ULKMt"
      },
      "execution_count": 10,
      "outputs": []
    },
    {
      "cell_type": "code",
      "source": [
        "def logistic_regression(X, y):\n",
        "  X_train, X_test, y_train, y_test = train_test_split(X, y, test_size=0.3, random_state=42)\n",
        "  model = LogisticRegression()\n",
        "  model.fit(X_train, y_train)\n",
        "  y_pred = model.predict(X_test)\n",
        "  return accuracy_score(y_test, y_pred)"
      ],
      "metadata": {
        "id": "8rAAq8NYLSuV"
      },
      "execution_count": 11,
      "outputs": []
    },
    {
      "cell_type": "code",
      "source": [
        "def decision_tree(X, y):\n",
        "  X_train, X_test, y_train, y_test = train_test_split(X, y, test_size=0.3, random_state=42)\n",
        "  model = DecisionTreeClassifier()\n",
        "  model.fit(X_train, y_train)\n",
        "  y_pred = model.predict(X_test)\n",
        "  return accuracy_score(y_test, y_pred)"
      ],
      "metadata": {
        "id": "QFj8Jm2VLYiU"
      },
      "execution_count": 13,
      "outputs": []
    },
    {
      "cell_type": "code",
      "source": [
        "\n",
        "def random_forest(X, y):\n",
        "  X_train, X_test, y_train, y_test = train_test_split(X, y, test_size=0.3, random_state=42)\n",
        "  model = RandomForestClassifier()\n",
        "  model.fit(X_train, y_train)\n",
        "  y_pred = model.predict(X_test)\n",
        "  return accuracy_score(y_test, y_pred)"
      ],
      "metadata": {
        "id": "p7pt3MQRLZRS"
      },
      "execution_count": 14,
      "outputs": []
    },
    {
      "cell_type": "code",
      "source": [
        "def support_vector_machine(X, y):\n",
        "  X_train, X_test, y_train, y_test = train_test_split(X, y, test_size=0.3, random_state=42)\n",
        "  model = SVC()\n",
        "  model.fit(X_train, y_train)\n",
        "  y_pred = model.predict(X_test)\n",
        "  return accuracy_score(y_test, y_pred)"
      ],
      "metadata": {
        "id": "ARuwiqGILeYd"
      },
      "execution_count": 15,
      "outputs": []
    },
    {
      "cell_type": "code",
      "source": [
        "def k_nearest_neighbors(X, y):\n",
        "  X_train, X_test, y_train, y_test = train_test_split(X, y, test_size=0.3, random_state=42)\n",
        "  model = KNeighborsClassifier(n_neighbors=3)\n",
        "  model.fit(X_train, y_train)\n",
        "  y_pred = model.predict(X_test)\n",
        "  return accuracy_score(y_test, y_pred)"
      ],
      "metadata": {
        "id": "SeFxYKX2LidQ"
      },
      "execution_count": 16,
      "outputs": []
    },
    {
      "cell_type": "code",
      "source": [
        "results_matrix = []\n",
        "rows = [\"undersampler\", \"oversampler\", \"tomek\", \"smote\", \"nearmiss\"]\n",
        "columns = [\"LR\", \"RFC\", \"SVC\", \"XGB\", \"KNN\"]\n",
        "\n",
        "for i, sampling_method in enumerate(\n",
        "    [random_undersampler, random_oversampler, tomek_links_sampling, smote_sampling, nearmiss_sampling]\n",
        "):\n",
        "    row = []\n",
        "    for j, model_class in enumerate(\n",
        "        [LogisticRegression, RandomForestClassifier, SVC, XGBClassifier, KNeighborsClassifier]\n",
        "    ):\n",
        "\n",
        "        sampled_X, sampled_y = sampling_method(X, y)\n",
        "\n",
        "        model = model_class()\n",
        "\n",
        "        model.fit(sampled_X, sampled_y)\n",
        "\n",
        "        accuracy = model.score(sampled_X, sampled_y)\n",
        "\n",
        "        row.append(accuracy)\n",
        "\n",
        "    results_matrix.append(row)\n",
        "\n",
        "df = pd.DataFrame(results_matrix, columns=columns, index=rows)\n",
        "print(df)\n"
      ],
      "metadata": {
        "colab": {
          "base_uri": "https://localhost:8080/"
        },
        "id": "UlrjaNBjLkJ3",
        "outputId": "3c9ae016-e39a-4d60-aef9-8b6c41ffcad0"
      },
      "execution_count": 18,
      "outputs": [
        {
          "output_type": "stream",
          "name": "stderr",
          "text": [
            "/usr/local/lib/python3.11/dist-packages/sklearn/linear_model/_logistic.py:465: ConvergenceWarning: lbfgs failed to converge (status=1):\n",
            "STOP: TOTAL NO. of ITERATIONS REACHED LIMIT.\n",
            "\n",
            "Increase the number of iterations (max_iter) or scale the data as shown in:\n",
            "    https://scikit-learn.org/stable/modules/preprocessing.html\n",
            "Please also refer to the documentation for alternative solver options:\n",
            "    https://scikit-learn.org/stable/modules/linear_model.html#logistic-regression\n",
            "  n_iter_i = _check_optimize_result(\n",
            "/usr/local/lib/python3.11/dist-packages/sklearn/linear_model/_logistic.py:465: ConvergenceWarning: lbfgs failed to converge (status=1):\n",
            "STOP: TOTAL NO. of ITERATIONS REACHED LIMIT.\n",
            "\n",
            "Increase the number of iterations (max_iter) or scale the data as shown in:\n",
            "    https://scikit-learn.org/stable/modules/preprocessing.html\n",
            "Please also refer to the documentation for alternative solver options:\n",
            "    https://scikit-learn.org/stable/modules/linear_model.html#logistic-regression\n",
            "  n_iter_i = _check_optimize_result(\n",
            "/usr/local/lib/python3.11/dist-packages/sklearn/linear_model/_logistic.py:465: ConvergenceWarning: lbfgs failed to converge (status=1):\n",
            "STOP: TOTAL NO. of ITERATIONS REACHED LIMIT.\n",
            "\n",
            "Increase the number of iterations (max_iter) or scale the data as shown in:\n",
            "    https://scikit-learn.org/stable/modules/preprocessing.html\n",
            "Please also refer to the documentation for alternative solver options:\n",
            "    https://scikit-learn.org/stable/modules/linear_model.html#logistic-regression\n",
            "  n_iter_i = _check_optimize_result(\n",
            "/usr/local/lib/python3.11/dist-packages/sklearn/linear_model/_logistic.py:465: ConvergenceWarning: lbfgs failed to converge (status=1):\n",
            "STOP: TOTAL NO. of ITERATIONS REACHED LIMIT.\n",
            "\n",
            "Increase the number of iterations (max_iter) or scale the data as shown in:\n",
            "    https://scikit-learn.org/stable/modules/preprocessing.html\n",
            "Please also refer to the documentation for alternative solver options:\n",
            "    https://scikit-learn.org/stable/modules/linear_model.html#logistic-regression\n",
            "  n_iter_i = _check_optimize_result(\n",
            "/usr/local/lib/python3.11/dist-packages/sklearn/linear_model/_logistic.py:465: ConvergenceWarning: lbfgs failed to converge (status=1):\n",
            "STOP: TOTAL NO. of ITERATIONS REACHED LIMIT.\n",
            "\n",
            "Increase the number of iterations (max_iter) or scale the data as shown in:\n",
            "    https://scikit-learn.org/stable/modules/preprocessing.html\n",
            "Please also refer to the documentation for alternative solver options:\n",
            "    https://scikit-learn.org/stable/modules/linear_model.html#logistic-regression\n",
            "  n_iter_i = _check_optimize_result(\n"
          ]
        },
        {
          "output_type": "stream",
          "name": "stdout",
          "text": [
            "                    LR  RFC       SVC  XGB       KNN\n",
            "undersampler  0.944444  1.0  0.722222  1.0  0.666667\n",
            "oversampler   0.922018  1.0  0.715596  1.0  0.990170\n",
            "tomek         0.988235  1.0  0.988235  1.0  0.988235\n",
            "smote         0.925950  1.0  0.690039  1.0  0.881389\n",
            "nearmiss      0.944444  1.0  0.722222  1.0  0.722222\n"
          ]
        }
      ]
    }
  ]
}